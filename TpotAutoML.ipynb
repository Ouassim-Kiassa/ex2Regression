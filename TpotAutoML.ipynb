{
  "cells": [
    {
      "cell_type": "code",
      "source": [
        "import numpy as np\n",
        "import pandas as pd\n",
        "\n",
        "from tpot import TPOTRegressor\n",
        "from sklearn.model_selection import train_test_split"
      ],
      "outputs": [],
      "execution_count": 1,
      "metadata": {
        "gather": {
          "logged": 1639422907005
        }
      }
    },
    {
      "cell_type": "code",
      "source": [
        "####################################\n",
        "##Reading data\n",
        "####################################\n",
        "\n",
        "breastcancer = pd.read_csv('datasets/breast-cancer-diagnostic.shuf.lrn_processed.csv')\n",
        "seoulbike = pd.read_csv('datasets/SeoulBikeData_processed.csv')\n",
        "concrete = pd.read_csv('datasets/concrete_data_processed.csv')\n"
      ],
      "outputs": [],
      "execution_count": 2,
      "metadata": {
        "gather": {
          "logged": 1639422907943
        },
        "jupyter": {
          "outputs_hidden": false,
          "source_hidden": false
        },
        "nteract": {
          "transient": {
            "deleting": false
          }
        }
      }
    },
    {
      "cell_type": "code",
      "source": [
        "##############################\n",
        "## Creating Config file for tpot operators and parameters\n",
        "##############################\n",
        "\n",
        "\n",
        "tpot_config = {\n",
        "    'sklearn.linear_model.ElasticNet': {\n",
        "        \n",
        "        \"max_iter\": [1, 5, 10],\n",
        "        \"alpha\": [0.0001, 0.001, 0.01, 0.1, 1, 10, 100],\n",
        "        \"l1_ratio\": (0, 1, 0.01)\n",
        "    },\n",
        "\n",
        "    'sklearn.tree.DecisionTreeRegressor': {\n",
        "        'criterion': [\"squared_error\", \"friedman_mse\", \"absolute_error\", \"poisson\"],\n",
        "        'splitter': [\"best\", \"random\"],\n",
        "        'min_samples_split': [2, 8, 16, 24, 32, 42, 64],\n",
        "        'min_samples_leaf': [1, 4, 8, 16, 32, 64, 128], \n",
        "\n",
        "    },\n",
        "\n",
        "    'sklearn.neural_network.MLPRegressor': {\n",
        "        'hidden_layer_sizes': [(50,50,50), (100,100,100), (150,150,150)],\n",
        "        'alpha': [0.0001, 0.05],\n",
        "        'activation': ['identity', 'logistic', 'tanh', 'relu'],\n",
        "        'learning_rate': ['constant', 'invscaling', 'adaptive']\n",
        "\n",
        "    }\n",
        "}"
      ],
      "outputs": [],
      "execution_count": 3,
      "metadata": {
        "gather": {
          "logged": 1639422909382
        },
        "jupyter": {
          "outputs_hidden": false,
          "source_hidden": false
        },
        "nteract": {
          "transient": {
            "deleting": false
          }
        }
      }
    },
    {
      "cell_type": "markdown",
      "source": [
        "Filtering the X and Y"
      ],
      "metadata": {
        "nteract": {
          "transient": {
            "deleting": false
          }
        }
      }
    },
    {
      "cell_type": "code",
      "source": [
        "# Breastcancer \n",
        "\n",
        "X = breastcancer.drop('target', axis=1)\n",
        "Y = breastcancer['target']"
      ],
      "outputs": [],
      "execution_count": 10,
      "metadata": {
        "gather": {
          "logged": 1639419752134
        }
      }
    },
    {
      "cell_type": "code",
      "source": [
        "# SeoulBikeData \n",
        "\n",
        "X = seoulbike.drop('Rented Bike Count', axis=1)\n",
        "Y = seoulbike['Rented Bike Count']"
      ],
      "outputs": [
        {
          "output_type": "execute_result",
          "execution_count": 9,
          "data": {
            "text/plain": "     Unnamed: 0  target          0         1         2         3         4\n0             0       0  -0.481087 -2.020527 -0.985558  0.671805 -0.425078\n1             1       0  -1.240146 -0.983626 -0.153250 -0.318409 -0.950779\n2             2       1   1.007390 -1.383571 -0.156056  0.087486  0.438858\n3             3       0  -1.701572  3.228727  6.179880 -2.636937  2.736508\n4             4       0   3.551157  5.727049  0.423446  4.128171 -2.054695\n..          ...     ...        ...       ...       ...       ...       ...\n280         280       1  11.017219 -2.653681 -3.008669  0.358757  0.834171\n281         281       1   2.430814  1.556917 -1.632908 -0.561531  0.748955\n282         282       0  -1.253447 -1.515366 -0.455662  0.770502 -0.888184\n283         283       1   4.550997 -2.151633  0.215106  0.462087 -0.022248\n284         284       0   0.090490 -0.238210  1.036996  1.640260 -1.152029\n\n[285 rows x 7 columns]",
            "text/html": "<div>\n<style scoped>\n    .dataframe tbody tr th:only-of-type {\n        vertical-align: middle;\n    }\n\n    .dataframe tbody tr th {\n        vertical-align: top;\n    }\n\n    .dataframe thead th {\n        text-align: right;\n    }\n</style>\n<table border=\"1\" class=\"dataframe\">\n  <thead>\n    <tr style=\"text-align: right;\">\n      <th></th>\n      <th>Unnamed: 0</th>\n      <th>target</th>\n      <th>0</th>\n      <th>1</th>\n      <th>2</th>\n      <th>3</th>\n      <th>4</th>\n    </tr>\n  </thead>\n  <tbody>\n    <tr>\n      <th>0</th>\n      <td>0</td>\n      <td>0</td>\n      <td>-0.481087</td>\n      <td>-2.020527</td>\n      <td>-0.985558</td>\n      <td>0.671805</td>\n      <td>-0.425078</td>\n    </tr>\n    <tr>\n      <th>1</th>\n      <td>1</td>\n      <td>0</td>\n      <td>-1.240146</td>\n      <td>-0.983626</td>\n      <td>-0.153250</td>\n      <td>-0.318409</td>\n      <td>-0.950779</td>\n    </tr>\n    <tr>\n      <th>2</th>\n      <td>2</td>\n      <td>1</td>\n      <td>1.007390</td>\n      <td>-1.383571</td>\n      <td>-0.156056</td>\n      <td>0.087486</td>\n      <td>0.438858</td>\n    </tr>\n    <tr>\n      <th>3</th>\n      <td>3</td>\n      <td>0</td>\n      <td>-1.701572</td>\n      <td>3.228727</td>\n      <td>6.179880</td>\n      <td>-2.636937</td>\n      <td>2.736508</td>\n    </tr>\n    <tr>\n      <th>4</th>\n      <td>4</td>\n      <td>0</td>\n      <td>3.551157</td>\n      <td>5.727049</td>\n      <td>0.423446</td>\n      <td>4.128171</td>\n      <td>-2.054695</td>\n    </tr>\n    <tr>\n      <th>...</th>\n      <td>...</td>\n      <td>...</td>\n      <td>...</td>\n      <td>...</td>\n      <td>...</td>\n      <td>...</td>\n      <td>...</td>\n    </tr>\n    <tr>\n      <th>280</th>\n      <td>280</td>\n      <td>1</td>\n      <td>11.017219</td>\n      <td>-2.653681</td>\n      <td>-3.008669</td>\n      <td>0.358757</td>\n      <td>0.834171</td>\n    </tr>\n    <tr>\n      <th>281</th>\n      <td>281</td>\n      <td>1</td>\n      <td>2.430814</td>\n      <td>1.556917</td>\n      <td>-1.632908</td>\n      <td>-0.561531</td>\n      <td>0.748955</td>\n    </tr>\n    <tr>\n      <th>282</th>\n      <td>282</td>\n      <td>0</td>\n      <td>-1.253447</td>\n      <td>-1.515366</td>\n      <td>-0.455662</td>\n      <td>0.770502</td>\n      <td>-0.888184</td>\n    </tr>\n    <tr>\n      <th>283</th>\n      <td>283</td>\n      <td>1</td>\n      <td>4.550997</td>\n      <td>-2.151633</td>\n      <td>0.215106</td>\n      <td>0.462087</td>\n      <td>-0.022248</td>\n    </tr>\n    <tr>\n      <th>284</th>\n      <td>284</td>\n      <td>0</td>\n      <td>0.090490</td>\n      <td>-0.238210</td>\n      <td>1.036996</td>\n      <td>1.640260</td>\n      <td>-1.152029</td>\n    </tr>\n  </tbody>\n</table>\n<p>285 rows × 7 columns</p>\n</div>"
          },
          "metadata": {}
        }
      ],
      "execution_count": 9,
      "metadata": {
        "gather": {
          "logged": 1639421113274
        }
      }
    },
    {
      "cell_type": "code",
      "source": [
        "# Concrete  \n",
        "\n",
        "X = concrete.drop('Strength', axis=1)\n",
        "Y = concrete['Strength']"
      ],
      "outputs": [],
      "execution_count": 4,
      "metadata": {
        "gather": {
          "logged": 1639422915459
        }
      }
    },
    {
      "cell_type": "markdown",
      "source": [
        "Creating Test and split"
      ],
      "metadata": {}
    },
    {
      "cell_type": "code",
      "source": [
        "##############################\n",
        "## Spliting train and test\n",
        "##############################\n",
        "\n",
        "\n",
        "X_train, X_test, y_train, y_test = train_test_split(X, Y,\n",
        "                                                    train_size=0.75, test_size=0.25, random_state=1122)"
      ],
      "outputs": [],
      "execution_count": 5,
      "metadata": {
        "gather": {
          "logged": 1639422917422
        },
        "jupyter": {
          "outputs_hidden": false,
          "source_hidden": false
        },
        "nteract": {
          "transient": {
            "deleting": false
          }
        }
      }
    },
    {
      "cell_type": "markdown",
      "source": [
        "initializing Tpot AutoML"
      ],
      "metadata": {}
    },
    {
      "cell_type": "code",
      "source": [
        "##############################\n",
        "## TPOTRegressor Config \n",
        "##############################\n",
        "\n",
        "tpot = TPOTRegressor(generations=5, population_size=100, verbosity=2, config_dict=tpot_config)\n",
        "tpot.fit(X_train, y_train)\n",
        "print(tpot.score(X_test, y_test))\n"
      ],
      "outputs": [
        {
          "output_type": "display_data",
          "data": {
            "text/plain": "Optimization Progress:   0%|          | 0/600 [00:00<?, ?pipeline/s]",
            "application/vnd.jupyter.widget-view+json": {
              "version_major": 2,
              "version_minor": 0,
              "model_id": "840095adb77645fdb73c738b18024d5c"
            }
          },
          "metadata": {}
        }
      ],
      "execution_count": 6,
      "metadata": {
        "jupyter": {
          "outputs_hidden": false,
          "source_hidden": false
        },
        "nteract": {
          "transient": {
            "deleting": false
          }
        },
        "gather": {
          "logged": 1639422359905
        }
      }
    },
    {
      "cell_type": "code",
      "source": [
        "##########################################\n",
        "## writing down the results into a file\n",
        "#########################################\n",
        "\n",
        "tpot.export('tpot_exported_pipeline.py')"
      ],
      "outputs": [],
      "execution_count": 31,
      "metadata": {
        "gather": {
          "logged": 1639422622847
        }
      }
    }
  ],
  "metadata": {
    "kernel_info": {
      "name": "python3"
    },
    "kernelspec": {
      "name": "python3",
      "language": "python",
      "display_name": "Python 3"
    },
    "language_info": {
      "name": "python",
      "version": "3.6.9",
      "mimetype": "text/x-python",
      "codemirror_mode": {
        "name": "ipython",
        "version": 3
      },
      "pygments_lexer": "ipython3",
      "nbconvert_exporter": "python",
      "file_extension": ".py"
    },
    "microsoft": {
      "host": {
        "AzureML": {
          "notebookHasBeenCompleted": true
        }
      }
    },
    "nteract": {
      "version": "nteract-front-end@1.0.0"
    }
  },
  "nbformat": 4,
  "nbformat_minor": 2
}