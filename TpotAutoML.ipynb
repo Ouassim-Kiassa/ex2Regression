{
 "cells": [
  {
   "cell_type": "code",
   "execution_count": null,
   "metadata": {
    "gather": {
     "logged": 1639399145779
    }
   },
   "outputs": [],
   "source": [
    "import numpy as np\n",
    "import pandas as pd\n",
    "\n",
    "from tpot import TPOTRegressor\n",
    "from sklearn.model_selection import train_test_split"
   ]
  },
  {
   "cell_type": "code",
   "execution_count": 5,
   "metadata": {
    "gather": {
     "logged": 1639399149791
    },
    "jupyter": {
     "outputs_hidden": false,
     "source_hidden": false
    },
    "nteract": {
     "transient": {
      "deleting": false
     }
    }
   },
   "outputs": [],
   "source": [
    "####################################\n",
    "##Reading data\n",
    "####################################\n",
    "\n",
    "breastcancer = pd.read_csv('./breastcancer/breast-cancer-diagnostic.shuf.lrn.csv')\n",
    "seoulbike = pd.read_csv('seoulbike/SeoulBikeData.csv')\n",
    "concrete = pd.read_csv('concrete/concrete_data.csv')"
   ]
  },
  {
   "cell_type": "code",
   "execution_count": 1,
   "metadata": {
    "gather": {
     "logged": 1639406360293
    },
    "jupyter": {
     "outputs_hidden": false,
     "source_hidden": false
    },
    "nteract": {
     "transient": {
      "deleting": false
     }
    }
   },
   "outputs": [],
   "source": [
    "##############################\n",
    "## Creating Config file for tpot operators and parameters\n",
    "##############################\n",
    "\n",
    "\n",
    "tpot_config = {\n",
    "    'sklearn.linear_model.ElasticNet': {\n",
    "        \n",
    "        \"max_iter\": [1, 5, 10],\n",
    "        \"alpha\": [0.0001, 0.001, 0.01, 0.1, 1, 10, 100],\n",
    "        \"l1_ratio\": (0, 1, 0.01)\n",
    "    },\n",
    "\n",
    "    'sklearn.tree.DecisionTreeRegressor': {\n",
    "        'criterion': [\"squared_error\", \"friedman_mse\", \"absolute_error\", \"poisson\"],\n",
    "        'splitter': [\"best\", \"random\"],\n",
    "        'min_samples_split': [2, 8, 16, 24, 32, 42, 64],\n",
    "        'min_samples_leaf': [1, 4, 8, 16, 32, 64, 128], \n",
    "\n",
    "    },\n",
    "\n",
    "    'sklearn.neural_network.MLPRegressor': {\n",
    "        ##'hidden_layer_sizes': [1, 4, 8, 16, 32, 64, 128],\n",
    "        'activation': ['identity', 'logistic', 'tanh', 'relu'],\n",
    "        'learning_rate': ['constant', 'invscaling', 'adaptive']\n",
    "\n",
    "    }\n",
    "}"
   ]
  },
  {
   "cell_type": "markdown",
   "metadata": {
    "nteract": {
     "transient": {
      "deleting": false
     }
    }
   },
   "source": [
    "Filtering the X and Y"
   ]
  },
  {
   "cell_type": "code",
   "execution_count": null,
   "metadata": {},
   "outputs": [],
   "source": [
    "# Breastcancer \n",
    "\n",
    "X = breastcancer.drop('class', axis=1)\n",
    "Y = breastcancer['class']"
   ]
  },
  {
   "cell_type": "code",
   "execution_count": null,
   "metadata": {},
   "outputs": [],
   "source": [
    "# SeoulBikeData \n",
    "\n",
    "X = seoulbike.drop('Rented Bike Count', axis=1)\n",
    "Y = seoulbike['Rented Bike Count']"
   ]
  },
  {
   "cell_type": "code",
   "execution_count": null,
   "metadata": {},
   "outputs": [],
   "source": [
    "# Concrete  \n",
    "\n",
    "X = concrete.drop('Strength', axis=1)\n",
    "Y = pd.DataFrame(concrete['Strength'])"
   ]
  },
  {
   "cell_type": "markdown",
   "metadata": {},
   "source": [
    "Creating Test and split"
   ]
  },
  {
   "cell_type": "code",
   "execution_count": 23,
   "metadata": {
    "gather": {
     "logged": 1639400827701
    },
    "jupyter": {
     "outputs_hidden": false,
     "source_hidden": false
    },
    "nteract": {
     "transient": {
      "deleting": false
     }
    }
   },
   "outputs": [],
   "source": [
    "##############################\n",
    "## Spliting train and test\n",
    "##############################\n",
    "\n",
    "\n",
    "X_train, X_test, y_train, y_test = train_test_split(X, Y,\n",
    "                                                    train_size=0.75, test_size=0.25, random_state=42)"
   ]
  },
  {
   "cell_type": "markdown",
   "metadata": {},
   "source": [
    "initializing Tpot AutoML"
   ]
  },
  {
   "cell_type": "code",
   "execution_count": null,
   "metadata": {
    "jupyter": {
     "outputs_hidden": false,
     "source_hidden": false
    },
    "nteract": {
     "transient": {
      "deleting": false
     }
    }
   },
   "outputs": [],
   "source": [
    "##############################\n",
    "## TPOTRegressor Config \n",
    "##############################\n",
    "\n",
    "tpot = TPOTRegressor(generations=10, population_size=50, verbosity=2, random_state=42, config_dict=tpot_config)\n",
    "tpot.fit(X_train, y_train)\n",
    "print(tpot.score(X_test, y_test))\n"
   ]
  },
  {
   "cell_type": "code",
   "execution_count": null,
   "metadata": {},
   "outputs": [],
   "source": [
    "##########################################\n",
    "## writing down the results into a file\n",
    "#########################################\n",
    "\n",
    "tpot.export('tpot_exported_pipeline.py')"
   ]
  }
 ],
 "metadata": {
  "kernel_info": {
   "name": "python3-azureml"
  },
  "kernelspec": {
   "display_name": "Python 3",
   "language": "python",
   "name": "python3"
  },
  "language_info": {
   "codemirror_mode": {
    "name": "ipython",
    "version": 3
   },
   "file_extension": ".py",
   "mimetype": "text/x-python",
   "name": "python",
   "nbconvert_exporter": "python",
   "pygments_lexer": "ipython3",
   "version": "3.8.8"
  },
  "microsoft": {
   "host": {
    "AzureML": {
     "notebookHasBeenCompleted": true
    }
   }
  },
  "nteract": {
   "version": "nteract-front-end@1.0.0"
  }
 },
 "nbformat": 4,
 "nbformat_minor": 2
}
